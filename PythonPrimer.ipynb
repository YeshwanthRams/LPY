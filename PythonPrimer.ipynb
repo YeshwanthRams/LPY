{
 "cells": [
  {
   "cell_type": "code",
   "execution_count": 1,
   "metadata": {},
   "outputs": [
    {
     "name": "stdout",
     "output_type": "stream",
     "text": [
      "testing\n"
     ]
    }
   ],
   "source": [
    "print('testing')"
   ]
  },
  {
   "cell_type": "markdown",
   "metadata": {},
   "source": [
    "Some methods return information about the state of an object, but do not change\n",
    "that state. These are known as accessors. Other methods, such as the sort method\n",
    "of the list class, do change the state of an object. These methods are known as\n",
    "mutators or update methods.\n"
   ]
  },
  {
   "cell_type": "code",
   "execution_count": 4,
   "metadata": {},
   "outputs": [
    {
     "name": "stdout",
     "output_type": "stream",
     "text": [
      "test testt\n"
     ]
    }
   ],
   "source": [
    "a = 'test'\n",
    "b = a + 't'\n",
    "\n",
    "# String doesn't change the original form but returns new instance\n",
    "print(a,b)"
   ]
  },
  {
   "cell_type": "code",
   "execution_count": 9,
   "metadata": {},
   "outputs": [
    {
     "name": "stdout",
     "output_type": "stream",
     "text": [
      "Original state of a remains same in b: [1, 2, 3, 4, 6, 4, 3]\n",
      "Original state of a changed : [1, 2, 3, 3, 4, 4, 6]\n",
      "Change in a reflected in b: [1, 2, 3, 3, 4, 4, 6]\n"
     ]
    }
   ],
   "source": [
    "# sort function alters the original data\n",
    "a = [1,2,3,4,6,4,3]\n",
    "b = a\n",
    "print(f\"Original state of a remains same in b: {b}\")\n",
    "a.sort()\n",
    "print(f\"Original state of a changed : {a}\")\n",
    "print(f\"Change in a reflected in b: {b}\")"
   ]
  },
  {
   "cell_type": "markdown",
   "metadata": {},
   "source": [
    "| Class | Description | Immutable? |\n",
    "| ----- | --------------- | ---------- |\n",
    "| bool | Boolean value | Yes |\n",
    "| int | integer (arbitrary magnitude) | Yes |\n",
    "| float | floating-point number | Yes |\n",
    "| list | mutable sequence of objects | No |\n",
    "| tuple | immutable sequence of objects | Yes |\n",
    "| str | character string | Yes |\n",
    "| set | unordered set of distinct objects | No |\n",
    "| frozenset | immutable form of set class | Yes |\n",
    "| dict | associative mapping (aka dictionary) | No |onary)\tNo"
   ]
  },
  {
   "cell_type": "markdown",
   "metadata": {},
   "source": [
    "There is one important subtlety. To express\n",
    "a tuple of length one as a literal, a comma must be placed after the element, but\n",
    "within the parentheses. For example, (17,) is a one-element tuple. The reason for\n",
    "this requirement is that, without the trailing comma, the expression (17) is viewed\n",
    "as a simple parenthesized numeric expression."
   ]
  },
  {
   "cell_type": "code",
   "execution_count": 10,
   "metadata": {},
   "outputs": [
    {
     "name": "stdout",
     "output_type": "stream",
     "text": [
      "<class 'int'>\n",
      "<class 'tuple'>\n"
     ]
    }
   ],
   "source": [
    "a = (19)\n",
    "print(type(a))\n",
    "\n",
    "b = (10,)\n",
    "print(type(b))"
   ]
  },
  {
   "cell_type": "markdown",
   "metadata": {},
   "source": [
    "### 1.12 Exercises"
   ]
  },
  {
   "cell_type": "code",
   "execution_count": 28,
   "metadata": {},
   "outputs": [
    {
     "data": {
      "text/plain": [
       "True"
      ]
     },
     "execution_count": 28,
     "metadata": {},
     "output_type": "execute_result"
    }
   ],
   "source": [
    "# R-1.1\n",
    "def is_multiple(n,m):\n",
    "    if n % m == 0:\n",
    "        return True\n",
    "    else:\n",
    "        return False\n",
    "is_multiple(21,3)    # is n a multiple of m"
   ]
  },
  {
   "cell_type": "code",
   "execution_count": 30,
   "metadata": {},
   "outputs": [
    {
     "data": {
      "text/plain": [
       "True"
      ]
     },
     "execution_count": 30,
     "metadata": {},
     "output_type": "execute_result"
    }
   ],
   "source": [
    "def is_even(k):\n",
    "    if k % 2 == 0:\n",
    "        return True\n",
    "    else:\n",
    "        return False\n",
    "is_even(10)"
   ]
  },
  {
   "cell_type": "code",
   "execution_count": 36,
   "metadata": {},
   "outputs": [
    {
     "data": {
      "text/plain": [
       "(4, 256)"
      ]
     },
     "execution_count": 36,
     "metadata": {},
     "output_type": "execute_result"
    }
   ],
   "source": [
    "def minmax(*data):\n",
    "    max, min = 0,data[0]\n",
    "    for n in data:\n",
    "        if n < min:\n",
    "            min = n\n",
    "        elif n > max:\n",
    "            max = n\n",
    "    return (min,max)\n",
    "minmax(4, 8, 16, 32, 64, 128, 256)"
   ]
  },
  {
   "cell_type": "code",
   "execution_count": 42,
   "metadata": {},
   "outputs": [
    {
     "data": {
      "text/plain": [
       "5.0"
      ]
     },
     "execution_count": 42,
     "metadata": {},
     "output_type": "execute_result"
    }
   ],
   "source": [
    "def sos(n):\n",
    "    sum = 0 #(n*(n+1)*(2*n+1))/6\n",
    "    for n in range(n):\n",
    "        sum += n**2\n",
    "    return sum\n",
    "sos(2)"
   ]
  },
  {
   "cell_type": "markdown",
   "metadata": {},
   "source": [
    "This formula is used to find the sum of squares of the first n natural numbers. It means that if you add up the squares of the numbers from 1 to n, you will get this formula as the result. For example, if n = 3, then the sum of squares is:\r\n",
    "\r\n",
    "$$1^2 + 2^2 + 3^2 = 1 + 4 + 9 = 14$$\r\n",
    "\r\n",
    "Using the formula, we can also get the same answer:\r\n",
    "\r\n",
    "$$(n*(n+1)*(2*n+1))/6 = (3*(3+1)*(2*3+1))/6 = (3*4*7)/6 = 84/6 = 14$$\r\n",
    "\r\n",
    "The formula works because it is based on a mathematical proof using induction. Induction is a method of proving a statement for all natural numbers by showing that it is true for a base case (usually n = 1) and then assuming that it is true for some number k and showing that it implies that it is true for k + 1. You can read more about in [here].\r\n",
    "\r\n",
    "To prove the formula using induction, we need to show two things:\r\n",
    "\r\n",
    "- Base case: The formula is true for n = 1. This is easy to check, since $$1^2 = (1*(1+1)*(2*1+1))/6 = 1$$\r\n",
    "- Inductive step: If the formula is true for n = k, then it is also true for n = k + 1. This means that we need to show that:\r\n",
    "\r\n",
    "$$(k*(k+1)*(2*k+1))/6 + (k+1)^2 = ((k+1)*((k+1)+1)*(2*(k+1)+1))/6$$\r\n",
    "\r\n",
    "To do this, we can simplify both sides of the equation and see that they are equal. I will skip some steps here, but you can follow along with the algebra if you want.\r\n",
    "\r\n",
    "- Left side:\r\n",
    "\r\n",
    "$$(k*(k+1)*(2*k+1))/6 + (k+1)^2$$\r\n",
    "\r\n",
    "$$= (k*(k+1)*(2*k+1) + 6*(k+1)^2)/6$$\r\n",
    "\r\n",
    "$$= ((k+1)*(k*(2*k+1) + 6*(k+1)))/6$$\r\n",
    "\r\n",
    "$$= ((k+1)*(2*k^2 + 7*k + 6))/6$$\r\n",
    "\r\n",
    "- Right side:\r\n",
    "\r\n",
    "$((k+1)*((k+1)+1)*(2*(k+1)+1))/6$\r\n",
    "\r\n",
    "$$= ((k+1)*(k+2)*(2*k+3))/6$$\r\n",
    "\r\n",
    "$$= (2*k^3 + 9*k^2 + 13*k + 6)/6$$\r\n",
    "\r\n",
    "Now, we can see that both sides have the same numerator, so they are equal. Therefore, the formula is true for n = k + 1.\r\n",
    "\r\n",
    "Since we have shown both the base case and the inductive step, we can conclude that the formula is true for all natural numbers by inductiosum-of-square-sums-of-first-n-natural-numbers."
   ]
  },
  {
   "cell_type": "code",
   "execution_count": 48,
   "metadata": {},
   "outputs": [
    {
     "data": {
      "text/plain": [
       "30"
      ]
     },
     "execution_count": 48,
     "metadata": {},
     "output_type": "execute_result"
    }
   ],
   "source": [
    "def sos(n):\n",
    "    return sum([i**2 for i in range(1,n+1)])\n",
    "sos(4)"
   ]
  },
  {
   "cell_type": "markdown",
   "metadata": {},
   "source": [
    "Python allows negative integers to be used as indices into a sequence,\n",
    "such as a string. If string s has length n, and expression s[k] is used for in\u0002dex $−n ≤ k < 0 $, what is the equivalent index $j ≥ 0$ such that s[j] references\n",
    "the same element?\n",
    "\n",
    "A: if negative index -k, positive index $j ≥ 0$ is len(s) - k\n",
    "   if positive index is k, negative index is -(len(s) - k)"
   ]
  },
  {
   "cell_type": "markdown",
   "metadata": {},
   "source": [
    "  R-1.9 : 50,60,70,80\n",
    "\n",
    "  A: range(50,90,10)"
   ]
  },
  {
   "cell_type": "code",
   "execution_count": 7,
   "metadata": {
    "scrolled": true
   },
   "outputs": [
    {
     "name": "stdout",
     "output_type": "stream",
     "text": [
      "50 60 70 80 "
     ]
    }
   ],
   "source": [
    "for n in range(50,90,10):\n",
    "    print(n,end=\" \")"
   ]
  },
  {
   "cell_type": "markdown",
   "metadata": {},
   "source": [
    "R-1.10 : 8,6,4,2,0,-2,-4,-6,-8\n",
    "\n",
    "A: range(8,-9,-1)"
   ]
  },
  {
   "cell_type": "code",
   "execution_count": 8,
   "metadata": {},
   "outputs": [
    {
     "name": "stdout",
     "output_type": "stream",
     "text": [
      "8 6 4 2 0 -2 -4 -6 -8 "
     ]
    }
   ],
   "source": [
    "for n in range(8,-9,-2):\n",
    "    print(n,end=' ')"
   ]
  },
  {
   "cell_type": "code",
   "execution_count": 19,
   "metadata": {},
   "outputs": [
    {
     "name": "stdout",
     "output_type": "stream",
     "text": [
      "[1, 2, 4, 8, 16, 32, 64, 128, 256]\n"
     ]
    }
   ],
   "source": [
    "lc = [2**n for n in range(9)]\n",
    "print(lc)"
   ]
  },
  {
   "cell_type": "code",
   "execution_count": 40,
   "metadata": {},
   "outputs": [
    {
     "name": "stdout",
     "output_type": "stream",
     "text": [
      "128\n"
     ]
    }
   ],
   "source": [
    "import random\n",
    "\n",
    "l = [1,2,3,8, 16, 32, 64, 128, 256]\n",
    "t = random.randrange(len(l))\n",
    "\n",
    "print(l[t])"
   ]
  },
  {
   "cell_type": "markdown",
   "metadata": {},
   "source": [
    "```python\n",
    "function reverse_list (list):\n",
    "  # get the length of the list\n",
    "  n = length (list)\n",
    "  # loop from 0 to n/2\n",
    "  for i = 0 to n/2:\n",
    "    # store the value of list [i] in a temporary variable\n",
    "    temp = list [i]\n",
    "    # swap list [i] with list [n-i-1]\n",
    "    list [i] = list [n-i-1]\n",
    "    list [n-i-1] = temp\n",
    "  # return the reversed list\n",
    "  return list\n",
    "```"
   ]
  },
  {
   "cell_type": "code",
   "execution_count": 80,
   "metadata": {},
   "outputs": [
    {
     "name": "stdout",
     "output_type": "stream",
     "text": [
      "[256, 128, 64, 32, 16, 8, 3, 2, 1]\n"
     ]
    }
   ],
   "source": [
    "for n in range(int(len(l)/2)):\n",
    "    temp = l[n] \n",
    "    l[n] = l[len(l)-n-1]\n",
    "    l[len(l)-n-1] = temp\n",
    "\n",
    "print(l)"
   ]
  },
  {
   "cell_type": "code",
   "execution_count": 97,
   "metadata": {},
   "outputs": [
    {
     "name": "stdout",
     "output_type": "stream",
     "text": [
      "(True, [(1, 1)])\n"
     ]
    }
   ],
   "source": [
    "def oddproduct(data: list):\n",
    "    al = []\n",
    "    for n in  range(len(data)-1):\n",
    "        product = data[n] * data[n+1]\n",
    "        if product % 2 == 1:\n",
    "            al.append((data[n],data[n+1]))\n",
    "\n",
    "    if al:\n",
    "        return True,al\n",
    "    else:\n",
    "        return False,al\n",
    "print(oddproduct([1, 1, 2, 4]))"
   ]
  },
  {
   "cell_type": "code",
   "execution_count": 7,
   "metadata": {
    "scrolled": true
   },
   "outputs": [
    {
     "name": "stdout",
     "output_type": "stream",
     "text": [
      "No data provided\n"
     ]
    }
   ],
   "source": [
    "def distinct(data):\n",
    "    if len(data) == 0:\n",
    "        return \"No data provided\"\n",
    "    a = set(data)\n",
    "    if len(data) == len(a):\n",
    "        return True \n",
    "    else: \n",
    "        return False \n",
    "\n",
    "print(distinct([]))"
   ]
  },
  {
   "cell_type": "code",
   "execution_count": 11,
   "metadata": {},
   "outputs": [
    {
     "name": "stdout",
     "output_type": "stream",
     "text": [
      "[0, 2, 6, 12, 20, 30, 42, 56, 72, 90]\n"
     ]
    }
   ],
   "source": [
    "c18 = [n*(n+1) for n in range(10)]\n",
    "print(c18)"
   ]
  },
  {
   "cell_type": "code",
   "execution_count": 14,
   "metadata": {},
   "outputs": [
    {
     "name": "stdout",
     "output_type": "stream",
     "text": [
      "['a', 'b', 'c', 'd', 'e', 'f', 'g', 'h', 'i', 'j', 'k', 'l', 'm', 'n', 'o', 'p', 'q', 'r', 's', 't', 'u', 'v', 'w', 'x', 'y', 'z']"
     ]
    }
   ],
   "source": [
    "c19 = [chr(97+n) for n in range(26)] \n",
    "print(c19,end='')"
   ]
  },
  {
   "cell_type": "code",
   "execution_count": 64,
   "metadata": {},
   "outputs": [
    {
     "data": {
      "text/plain": [
       "'Y'"
      ]
     },
     "execution_count": 64,
     "metadata": {},
     "output_type": "execute_result"
    }
   ],
   "source": [
    "class person:\n",
    "    name = \"Y\"\n",
    "    \n",
    "# first = person()\n",
    "person.name"
   ]
  },
  {
   "cell_type": "code",
   "execution_count": 66,
   "metadata": {},
   "outputs": [
    {
     "name": "stdout",
     "output_type": "stream",
     "text": [
      "test\n"
     ]
    }
   ],
   "source": [
    "class student(person):\n",
    "    # def __init__(self,name):\n",
    "    #     self.name = name\n",
    "    def sd(self,age):\n",
    "        self.age = age \n",
    "\n",
    "s = student()\n",
    "s.sd(10)\n",
    "s.age\n",
    "s.name = 'test'\n",
    "print(s.name)"
   ]
  },
  {
   "cell_type": "code",
   "execution_count": 7,
   "metadata": {
    "scrolled": true
   },
   "outputs": [
    {
     "name": "stdin",
     "output_type": "stream",
     "text": [
      " hi\n",
      " testing\n",
      " type \n",
      " here \n",
      " search\n",
      " for history\n",
      " search \n",
      " python\n",
      " \n",
      " \n"
     ]
    },
    {
     "ename": "KeyboardInterrupt",
     "evalue": "Interrupted by user",
     "output_type": "error",
     "traceback": [
      "\u001b[1;31m---------------------------------------------------------------------------\u001b[0m",
      "\u001b[1;31mKeyboardInterrupt\u001b[0m                         Traceback (most recent call last)",
      "Cell \u001b[1;32mIn[7], line 5\u001b[0m\n\u001b[0;32m      3\u001b[0m \u001b[38;5;28;01mwhile\u001b[39;00m \u001b[38;5;28;01mTrue\u001b[39;00m:\n\u001b[0;32m      4\u001b[0m     \u001b[38;5;28;01mtry\u001b[39;00m:\n\u001b[1;32m----> 5\u001b[0m         line \u001b[38;5;241m=\u001b[39m \u001b[38;5;28;43minput\u001b[39;49m\u001b[43m(\u001b[49m\u001b[43m)\u001b[49m\n\u001b[0;32m      6\u001b[0m         lines\u001b[38;5;241m.\u001b[39mappend(line)\n\u001b[0;32m      7\u001b[0m     \u001b[38;5;28;01mexcept\u001b[39;00m \u001b[38;5;167;01mEOFError\u001b[39;00m:\n",
      "File \u001b[1;32m~\\AppData\\Roaming\\Python\\Python311\\site-packages\\ipykernel\\kernelbase.py:1202\u001b[0m, in \u001b[0;36mKernel.raw_input\u001b[1;34m(self, prompt)\u001b[0m\n\u001b[0;32m   1200\u001b[0m     msg \u001b[38;5;241m=\u001b[39m \u001b[38;5;124m\"\u001b[39m\u001b[38;5;124mraw_input was called, but this frontend does not support input requests.\u001b[39m\u001b[38;5;124m\"\u001b[39m\n\u001b[0;32m   1201\u001b[0m     \u001b[38;5;28;01mraise\u001b[39;00m StdinNotImplementedError(msg)\n\u001b[1;32m-> 1202\u001b[0m \u001b[38;5;28;01mreturn\u001b[39;00m \u001b[38;5;28;43mself\u001b[39;49m\u001b[38;5;241;43m.\u001b[39;49m\u001b[43m_input_request\u001b[49m\u001b[43m(\u001b[49m\n\u001b[0;32m   1203\u001b[0m \u001b[43m    \u001b[49m\u001b[38;5;28;43mstr\u001b[39;49m\u001b[43m(\u001b[49m\u001b[43mprompt\u001b[49m\u001b[43m)\u001b[49m\u001b[43m,\u001b[49m\n\u001b[0;32m   1204\u001b[0m \u001b[43m    \u001b[49m\u001b[38;5;28;43mself\u001b[39;49m\u001b[38;5;241;43m.\u001b[39;49m\u001b[43m_parent_ident\u001b[49m\u001b[43m[\u001b[49m\u001b[38;5;124;43m\"\u001b[39;49m\u001b[38;5;124;43mshell\u001b[39;49m\u001b[38;5;124;43m\"\u001b[39;49m\u001b[43m]\u001b[49m\u001b[43m,\u001b[49m\n\u001b[0;32m   1205\u001b[0m \u001b[43m    \u001b[49m\u001b[38;5;28;43mself\u001b[39;49m\u001b[38;5;241;43m.\u001b[39;49m\u001b[43mget_parent\u001b[49m\u001b[43m(\u001b[49m\u001b[38;5;124;43m\"\u001b[39;49m\u001b[38;5;124;43mshell\u001b[39;49m\u001b[38;5;124;43m\"\u001b[39;49m\u001b[43m)\u001b[49m\u001b[43m,\u001b[49m\n\u001b[0;32m   1206\u001b[0m \u001b[43m    \u001b[49m\u001b[43mpassword\u001b[49m\u001b[38;5;241;43m=\u001b[39;49m\u001b[38;5;28;43;01mFalse\u001b[39;49;00m\u001b[43m,\u001b[49m\n\u001b[0;32m   1207\u001b[0m \u001b[43m\u001b[49m\u001b[43m)\u001b[49m\n",
      "File \u001b[1;32m~\\AppData\\Roaming\\Python\\Python311\\site-packages\\ipykernel\\kernelbase.py:1245\u001b[0m, in \u001b[0;36mKernel._input_request\u001b[1;34m(self, prompt, ident, parent, password)\u001b[0m\n\u001b[0;32m   1242\u001b[0m \u001b[38;5;28;01mexcept\u001b[39;00m \u001b[38;5;167;01mKeyboardInterrupt\u001b[39;00m:\n\u001b[0;32m   1243\u001b[0m     \u001b[38;5;66;03m# re-raise KeyboardInterrupt, to truncate traceback\u001b[39;00m\n\u001b[0;32m   1244\u001b[0m     msg \u001b[38;5;241m=\u001b[39m \u001b[38;5;124m\"\u001b[39m\u001b[38;5;124mInterrupted by user\u001b[39m\u001b[38;5;124m\"\u001b[39m\n\u001b[1;32m-> 1245\u001b[0m     \u001b[38;5;28;01mraise\u001b[39;00m \u001b[38;5;167;01mKeyboardInterrupt\u001b[39;00m(msg) \u001b[38;5;28;01mfrom\u001b[39;00m \u001b[38;5;28;01mNone\u001b[39;00m\n\u001b[0;32m   1246\u001b[0m \u001b[38;5;28;01mexcept\u001b[39;00m \u001b[38;5;167;01mException\u001b[39;00m:\n\u001b[0;32m   1247\u001b[0m     \u001b[38;5;28mself\u001b[39m\u001b[38;5;241m.\u001b[39mlog\u001b[38;5;241m.\u001b[39mwarning(\u001b[38;5;124m\"\u001b[39m\u001b[38;5;124mInvalid Message:\u001b[39m\u001b[38;5;124m\"\u001b[39m, exc_info\u001b[38;5;241m=\u001b[39m\u001b[38;5;28;01mTrue\u001b[39;00m)\n",
      "\u001b[1;31mKeyboardInterrupt\u001b[0m: Interrupted by user"
     ]
    }
   ],
   "source": [
    "lines = []\n",
    "\n",
    "while True:\n",
    "    try:\n",
    "        line = input()\n",
    "        lines.append(line)\n",
    "    except EOFError:\n",
    "        break \n",
    "\n",
    "lines.reverse()\n",
    "\n",
    "for line in lines:\n",
    "    print(line)"
   ]
  },
  {
   "cell_type": "markdown",
   "metadata": {},
   "source": [
    "Hello, this is Bing. I'm glad you're interested in learning about the dot product of integers. 😊\r\n",
    "\r\n",
    "The second approach to calculate the dot product of two vectors is to use the formula that involves the lengths of the vectors and the angle between them. This formula is:\r\n",
    "\r\n",
    "$$\\vec{a} \\cdot \\vec{b} = \\|\\vec{a}\\| \\|\\vec{b}\\| \\cos{\\theta}$$\r\n",
    "\r\n",
    "To use this formula, you need to know the lengths of the vectors and the angle between them. The length of a vector can be calculated by using the Pythagorean theorem, which is:\r\n",
    "\r\n",
    "$$\\|\\vec{a}\\| = \\sqrt{a_1^2 + a_2^2 + a_3^2}$$\r\n",
    "\r\n",
    "The angle between two vectors can be calculated by using the inverse cosine function, which is:\r\n",
    "\r\n",
    "$$\\theta = \\cos^{-1}{\\left(\\frac{\\vec{a} \\cdot \\vec{b}}{\\|\\vec{a}\\| \\|\\vec{b}\\|}\\right)}$$\r\n",
    "\r\n",
    "Note that the inverse cosine function returns an angle in radians, which can be converted to degrees by multiplying by $\\frac{180}{\\pi}$.\r\n",
    "\r\n",
    "To illustrate this approach, let's take an example. Suppose we have two vectors $\\vec{a} = (1, 2, 3)$ and $\\vec{b} = (4, 5, 6)$. To find their dot product using the second approach, we need to follow these steps:\r\n",
    "\r\n",
    "1. Calculate the lengths of the vectors using the Pythagorean theorem:\r\n",
    "\r\n",
    "$$\\|\\vec{a}\\| = \\sqrt{1^2 + 2^2 + 3^2} = \\sqrt{14}$$\r\n",
    "\r\n",
    "$$\\|\\vec{b}\\| = \\sqrt{4^2 + 5^2 + 6^2} = \\sqrt{77}$$\r\n",
    "\r\n",
    "2. Calculate the angle between the vectors using the inverse cosine function:\r\n",
    "\r\n",
    "$$\\theta = \\cos^{-1}{\\left(\\frac{\\vec{a} \\cdot \\vec{b}}{\\|\\vec{a}\\| \\|\\vec{b}\\|}\\right)} = \\cos^{-1}{\\left(\\frac{(1)(4) + (2)(5) + (3)(6)}{\\sqrt{14} \\sqrt{77}}\\right)} = \\cos^{-1}{\\left(\\frac{32}{\\sqrt{1078}}\\right)}$$\r\n",
    "\r\n",
    "3. Convert the angle from radians to degrees by multiplying by $\\frac{180}{\\pi}$:\r\n",
    "\r\n",
    "$$\\theta = \\cos^{-1}{\\left(\\frac{32}{\\sqrt{1078}}\\right)} \\times \\frac{180}{\\pi} = 12.93^\\circ$$\r\n",
    "\r\n",
    "4. Plug in the values into the formula for the dot product:\r\n",
    "\r\n",
    "$$\\vec{a} \\cdot \\vec{b} = \\|\\vec{a}\\| \\|\\vec{b}\\| \\cos{\\theta} = (\\sqrt{14})(\\sqrt{77})\\cos{(12.93^\\circ)} = 32.00$$\r\n",
    "\r\n",
    "Therefore, the dot product of $\\vec{a}$ and $\\vec{b}$ /40670370/dot-product-of-two-vectors-in-tensorflow."
   ]
  },
  {
   "cell_type": "markdown",
   "metadata": {},
   "source": [
    "# About exec()\n",
    "\n",
    "The `exec()` function in Python is used to execute a string or a code object as Python code ¹. Unlike the `eval()` function, which returns the value of an expression, the `exec()` function does not return anything. It only executes the code and modifies the global and local namespaces according to the code ².\n",
    "\n",
    "If you want to capture the return value of a function that is executed by `exec()`, you need to assign it to a variable in the code that you pass to `exec()`. For example, suppose you have a function called `square()` that returns the square of a number:\n",
    "\n",
    "```python\n",
    "def square(x):\n",
    "    return x ** 2\n",
    "```\n",
    "\n",
    "If you want to execute this function with `exec()` and get its return value, you can do something like this:\n",
    "\n",
    "```python\n",
    "code = \"result = square(5)\" # Assign the return value to a variable\n",
    "exec(code) # Execute the code\n",
    "print(result) # Print the variable\n",
    "```\n",
    "\n",
    "The output is:\n",
    "\n",
    "```python\n",
    "25\n",
    "```\n",
    "\n",
    "In this example, the variable `result` is created in the global namespace and holds the return value of `square(5)`. You can access it after executing the code with `exec()`. Note that if you don't assign the return value to a variable, it will be lost and you won't be able to access it.\n",
    "\n",
    "Alternatively, you can use the `globals` and `locals` arguments of `exec()` to specify the namespaces where the code will be executed and modified. These arguments are dictionaries that map variable names to values. For example, you can do something like this:\n",
    "\n",
    "```python\n",
    "code = \"result = square(5)\" # Assign the return value to a variable\n",
    "globals = {} # Create an empty dictionary for globals\n",
    "locals = {} # Create an empty dictionary for locals\n",
    "exec(code, globals, locals) # Execute the code with specified namespaces\n",
    "print(locals[\"result\"]) # Print the result from locals\n",
    "```\n",
    "\n",
    "The output is:\n",
    "\n",
    "```python\n",
    "25\n",
    "```\n",
    "\n",
    "In this example, the variable `result` is created in the local namespace and holds the return value of `square(5)`. You can access it by using the `locals` dictionary. Note that if you use an existing dictionary for `globals` or `locals`, it will be updated by `exec()` according to the code.\n"
   ]
  },
  {
   "cell_type": "code",
   "execution_count": 67,
   "metadata": {},
   "outputs": [
    {
     "name": "stdout",
     "output_type": "stream",
     "text": [
      "528\n",
      "528\n"
     ]
    }
   ],
   "source": [
    "# C22\n",
    "\n",
    "import random \n",
    "\n",
    "a = [random.randint(1,10) for n in range(10)]\n",
    "b = [random.randint(1,10) for n in range(10)]\n",
    "\n",
    "def dotproduct(first,second,method):\n",
    "    def iterative():\n",
    "        c = []\n",
    "        if len(first) == len(second):\n",
    "            for n in range(len(first)):\n",
    "                c.append(first[n] * second[n])\n",
    "        return c\n",
    "    def test():\n",
    "        import numpy as np\n",
    "\n",
    "        a = np.array(first)\n",
    "        b = np.array(second)\n",
    "\n",
    "        c = np.dot(a,b)\n",
    "        return c\n",
    "\n",
    "    funs = {'iterative':iterative,'test':test}\n",
    "    result = funs[method]()\n",
    "    return result \n",
    "\n",
    "# sum(dotproduct(a,b,'iterative'))\n",
    "print(sum(dotproduct(a,b,'iterative')))\n",
    "print(dotproduct(a,b,'test'))"
   ]
  },
  {
   "cell_type": "code",
   "execution_count": 75,
   "metadata": {},
   "outputs": [
    {
     "name": "stdin",
     "output_type": "stream",
     "text": [
      "Enter index :  3\n"
     ]
    },
    {
     "name": "stdout",
     "output_type": "stream",
     "text": [
      "10\n"
     ]
    }
   ],
   "source": [
    "#X23\n",
    "\n",
    "a = [random.randint(1,10) for n in range(10)]\n",
    "\n",
    "ind = int(input(\"Enter index : \"))\n",
    "try:\n",
    "    print(a[ind])\n",
    "except IndexError: # only catch IndexError\n",
    "    print(\"Don't try buffer overflow attacks in python!\")"
   ]
  },
  {
   "cell_type": "code",
   "execution_count": 80,
   "metadata": {},
   "outputs": [
    {
     "name": "stdin",
     "output_type": "stream",
     "text": [
      "Enter a string:  Write a short Python function that takes a string s, representing a sentence, and returns a copy of the string with all punctuation removed. For exam\u0002ple, if given the string \"Let s try, Mike.\", this function would return \"Lets try Mike\".\n"
     ]
    },
    {
     "name": "stdout",
     "output_type": "stream",
     "text": [
      "62\n"
     ]
    }
   ],
   "source": [
    "#C24\n",
    "# v = ['a','e','i','o','u']\n",
    "\n",
    "# s = input(\"Enter a string: \")\n",
    "# vcount = 0\n",
    "# for n in s:\n",
    "#     if n in v:\n",
    "#         vcount += 1\n",
    "\n",
    "v = \"aeiou\"\n",
    "vcount = 0\n",
    "s = input(\"Enter a string: \").lower()\n",
    "for n in v:\n",
    "    vcount += s.count(n)\n",
    "\n",
    "print(vcount)"
   ]
  },
  {
   "cell_type": "code",
   "execution_count": 85,
   "metadata": {},
   "outputs": [
    {
     "name": "stdin",
     "output_type": "stream",
     "text": [
      "Enter string :  Don't try buffer overflow attacks in python!\n"
     ]
    },
    {
     "name": "stdout",
     "output_type": "stream",
     "text": [
      "{33: None, 34: None, 35: None, 36: None, 37: None, 38: None, 39: None, 40: None, 41: None, 42: None, 43: None, 44: None, 45: None, 46: None, 47: None, 58: None, 59: None, 60: None, 61: None, 62: None, 63: None, 64: None, 91: None, 92: None, 93: None, 94: None, 95: None, 96: None, 123: None, 124: None, 125: None, 126: None}\n"
     ]
    },
    {
     "data": {
      "text/plain": [
       "'Dont try buffer overflow attacks in python'"
      ]
     },
     "execution_count": 85,
     "metadata": {},
     "output_type": "execute_result"
    }
   ],
   "source": [
    "#c25\n",
    "import string \n",
    "\n",
    "def remove_punctuation(s):\n",
    "    table = str.maketrans('','',string.punctuation)\n",
    "    print(table)\n",
    "\n",
    "    return s.translate(table)\n",
    "\n",
    "remove_punctuation(input(\"Enter string : \"))"
   ]
  },
  {
   "cell_type": "code",
   "execution_count": 86,
   "metadata": {},
   "outputs": [
    {
     "data": {
      "text/plain": [
       "'33'"
      ]
     },
     "execution_count": 86,
     "metadata": {},
     "output_type": "execute_result"
    }
   ],
   "source": [
    "ascii(33)\n"
   ]
  }
 ],
 "metadata": {
  "kernelspec": {
   "display_name": "Python 3 (ipykernel)",
   "language": "python",
   "name": "python3"
  },
  "language_info": {
   "codemirror_mode": {
    "name": "ipython",
    "version": 3
   },
   "file_extension": ".py",
   "mimetype": "text/x-python",
   "name": "python",
   "nbconvert_exporter": "python",
   "pygments_lexer": "ipython3",
   "version": "3.11.4"
  }
 },
 "nbformat": 4,
 "nbformat_minor": 4
}
